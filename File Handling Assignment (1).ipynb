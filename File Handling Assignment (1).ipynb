{
 "cells": [
  {
   "cell_type": "markdown",
   "id": "7cfe5092",
   "metadata": {},
   "source": [
    "# Question_1st:-Discuss the scenarios where multithreading is preferable to multiprocessing and scenarios where multiprocessing is a better choice."
   ]
  },
  {
   "cell_type": "code",
   "execution_count": 1,
   "id": "9a890ce2",
   "metadata": {},
   "outputs": [],
   "source": [
    "# 1st:-Multhithreading:-\n",
    "\n",
    "               # I/O-Bound Tasks: Preferable for tasks that spend a lot of time waiting for external resources (e.g., file I/O, network requests).\n",
    "               # Shared Memory: If threads need to share a lot of data, multithreading is more efficient because threads share the same memory space.\n",
    "               # Lightweight: Threads are generally lighter and faster to create than processes, making them suitable for tasks requiring frequent context switching.\n",
    "# 2nd:-Multiprocessing:-\n",
    "               # CPU-Bound Tasks: Better for tasks that are computation-heavy and can run in parallel on multiple CPU cores.\n",
    "               # Process Isolation: When tasks require isolation (e.g., to avoid side effects from shared memory), multiprocessing is safer because each process has its own memory space.\n",
    "               # GIL Limitation: In Python, multiprocessing is preferred for CPU-bound tasks because it bypasses the Global Interpreter Lock (GIL) that can hinder the performance of multithreaded programs.\n",
    "            "
   ]
  },
  {
   "cell_type": "markdown",
   "id": "64727404",
   "metadata": {},
   "source": [
    "# Question_2nd:- Describe what a process pool is and how it helps in managing multiple processes efficiently."
   ]
  },
  {
   "cell_type": "code",
   "execution_count": 2,
   "id": "5c72bc76",
   "metadata": {},
   "outputs": [],
   "source": [
    "# A process pool is a collection of pre-instantiated worker processes that are ready to execute tasks. It helps in managing multiple processes efficiently by:\n",
    "\n",
    "        # 1.Reusing Processes: Instead of creating a new process for each task, a process pool reuses existing processes, reducing the overhead of process creation and termination.\n",
    "    \n",
    "        # 2.Load Balancing: It automatically distributes tasks among the available processes, ensuring efficient utilization of CPU cores.\n",
    "        \n",
    "        # 3.Parallel Execution: Tasks can run in parallel across multiple processes, speeding up execution, especially for CPU-bound tasks.\n",
    "        \n",
    "        # Simplified Management: The pool handles the lifecycle of processes, making it easier to manage concurrency without manually handling process creation and termination."
   ]
  },
  {
   "cell_type": "markdown",
   "id": "ae40aa3d",
   "metadata": {},
   "source": [
    "# Question_3rd:- Explain what multiprocessing is and why it is used in Python programs."
   ]
  },
  {
   "cell_type": "code",
   "execution_count": 3,
   "id": "ee058b9a",
   "metadata": {},
   "outputs": [],
   "source": [
    "# Multiprocessing :- Multhiprocessing in Python is the technique of running multiple processes simultaneously, each with its own memory space. It is used to:\n",
    "\n",
    "         # 1st.Leverage Multiple Cores: Python programs can utilize multiple CPU cores, enabling true parallel execution of tasks.\n",
    "    \n",
    "         # 2nd.Bypass GIL: It avoids the limitations of the Global Interpreter Lock (GIL) in Python, which can restrict multithreading performance in CPU-bound tasks.\n",
    "        \n",
    "         # 3rd:Improve Performance: By distributing work across multiple processes, multiprocessing can significantly speed up computation-heavy tasks"
   ]
  },
  {
   "cell_type": "markdown",
   "id": "67c04851",
   "metadata": {},
   "source": [
    "# Question_4th:- Write a Python program using multithreading where one thread adds numbers to a list, and anotherthread removes numbers from the list. Implement a mechanism to avoid race conditions using threading.Lock."
   ]
  },
  {
   "cell_type": "code",
   "execution_count": 4,
   "id": "f02e2e2b",
   "metadata": {},
   "outputs": [
    {
     "name": "stdout",
     "output_type": "stream",
     "text": [
      "Added: 0\n",
      "Removed: 0\n",
      "Added: 1\n",
      "Removed: 1\n",
      "Added: 2\n",
      "Removed: 2\n",
      "Added: 3\n",
      "Added: 4\n",
      "Removed: 3\n",
      "Added: 5\n",
      "Removed: 4\n",
      "Added: 6\n",
      "Added: 7\n",
      "Removed: 5\n",
      "Added: 8\n",
      "Removed: 6\n",
      "Added: 9\n",
      "Removed: 7\n",
      "Removed: 8\n",
      "Removed: 9\n",
      "Final list: []\n"
     ]
    }
   ],
   "source": [
    "import threading\n",
    "import time\n",
    "\n",
    "# Shared resource\n",
    "numbers_list = []\n",
    "\n",
    "# Lock to prevent race conditions\n",
    "list_lock = threading.Lock()\n",
    "\n",
    "# Function to add numbers to the list\n",
    "def add_numbers():\n",
    "    for i in range(10):\n",
    "        with list_lock:\n",
    "            numbers_list.append(i)\n",
    "            print(f\"Added: {i}\")\n",
    "        time.sleep(0.1)  # Simulate some delay\n",
    "\n",
    "# Function to remove numbers from the list\n",
    "def remove_numbers():\n",
    "    for _ in range(10):\n",
    "        with list_lock:\n",
    "            if numbers_list:\n",
    "                removed = numbers_list.pop(0)\n",
    "                print(f\"Removed: {removed}\")\n",
    "        time.sleep(0.15)  # Simulate some delay\n",
    "\n",
    "# Create threads\n",
    "adder_thread = threading.Thread(target=add_numbers)\n",
    "remover_thread = threading.Thread(target=remove_numbers)\n",
    "\n",
    "# Start threads\n",
    "adder_thread.start()\n",
    "remover_thread.start()\n",
    "\n",
    "# Wait for threads to finish\n",
    "adder_thread.join()\n",
    "remover_thread.join()\n",
    "\n",
    "print(\"Final list:\", numbers_list)\n"
   ]
  },
  {
   "cell_type": "markdown",
   "id": "2171c542",
   "metadata": {},
   "source": [
    "# Question_5th:-. Describe the methods and tools available in Python for safely sharing data between threads and processes."
   ]
  },
  {
   "cell_type": "code",
   "execution_count": 5,
   "id": "17a0ac90",
   "metadata": {},
   "outputs": [],
   "source": [
    "# For Threads:\n",
    "\n",
    "      # 1.threading.Lock: Ensures that only one thread can access a shared resource at a time, preventing race conditions.\n",
    "      # 2.threading.RLock: A reentrant lock that allows a thread to acquire the same lock multiple times.\n",
    "      # 3.threading.Semaphore: Controls access to a shared resource by a set number of threads.\n",
    "      # 4.threading.Event: Used for signaling between threads.\n",
    "      # 5.threading.Condition: Allows threads to wait for a certain condition to be met before proceeding.\n",
    "# For Processes:\n",
    "\n",
    "      # multiprocessing.Queue: A thread- and process-safe FIFO queue that allows safe data sharing between processes.\n",
    "      # multiprocessing.Pipe: A two-way communication channel between processes.\n",
    "      # multiprocessing.Manager: Provides a way to create shared data structures like lists, dictionaries, etc., that can be safely shared between processes.\n",
    "      # multiprocessing.Value and Array: Allow sharing of simple data types and arrays between processes, with automatic synchronization."
   ]
  },
  {
   "cell_type": "markdown",
   "id": "2cd06b65",
   "metadata": {},
   "source": [
    "# Question_6th:-Discuss why it’s crucial to handle exceptions in concurrent programs and the techniques available for doing so."
   ]
  },
  {
   "cell_type": "code",
   "execution_count": 6,
   "id": "f74e9d77",
   "metadata": {},
   "outputs": [],
   "source": [
    "# Handling exceptions in concurrent programs is crucial because:\n",
    "\n",
    "       # Robustness: Ensures the program can recover from errors without crashing or behaving unpredictably.\n",
    "    \n",
    "       # Debugging: Helps in identifying and addressing issues specific to concurrent execution that might not be apparent in sequential programs.\n",
    "        \n",
    "       # Resource Management: Prevents resource leaks (e.g., unclosed files, unreleased locks) that can occur if exceptions aren't properly managed.\n",
    "    \n",
    "# Techniques for Handling Exceptions:\n",
    "       # Try-Except Blocks: Wrap critical code in try-except blocks within threads or processes to catch and handle exceptions locally.\n",
    "    \n",
    "       # Exception Propagation: Use mechanisms like queue or Pipe to propagate exceptions from threads or processes to the main thread or process for centralized handling.\n",
    "        \n",
    "       # Logging: Implement logging within exception handlers to record errors for debugging and monitoring.\n",
    "    \n",
    "       # Graceful Shutdown: Ensure proper cleanup of resources and graceful shutdown of threads or processes when an exception occurs."
   ]
  },
  {
   "cell_type": "markdown",
   "id": "efa8e2ac",
   "metadata": {},
   "source": [
    "# Question_7th:- Create a program that uses a thread pool to calculate the factorial of numbers from 1 to 10 concurrently.Use concurrent.futures.ThreadPoolExecutor to manage the threads."
   ]
  },
  {
   "cell_type": "code",
   "execution_count": 7,
   "id": "e73d4102",
   "metadata": {},
   "outputs": [
    {
     "name": "stdout",
     "output_type": "stream",
     "text": [
      "Factorial of 1 is 1\n",
      "Factorial of 2 is 2\n",
      "Factorial of 3 is 6\n",
      "Factorial of 4 is 24\n",
      "Factorial of 5 is 120\n",
      "Factorial of 6 is 720\n",
      "Factorial of 7 is 5040\n",
      "Factorial of 8 is 40320\n",
      "Factorial of 9 is 362880\n",
      "Factorial of 10 is 3628800\n"
     ]
    }
   ],
   "source": [
    "import concurrent.futures\n",
    "import math\n",
    "\n",
    "# Function to compute the factorial of a number\n",
    "def factorial(n):\n",
    "    return math.factorial(n)\n",
    "\n",
    "# List of numbers to compute factorials for\n",
    "numbers = list(range(1, 11))\n",
    "\n",
    "def main():\n",
    "    # Create a ThreadPoolExecutor\n",
    "    with concurrent.futures.ThreadPoolExecutor() as executor:\n",
    "        # Map the factorial function to the numbers\n",
    "        results = list(executor.map(factorial, numbers))\n",
    "    \n",
    "    # Print results\n",
    "    for num, result in zip(numbers, results):\n",
    "        print(f\"Factorial of {num} is {result}\")\n",
    "\n",
    "if __name__ == \"__main__\":\n",
    "    main()\n"
   ]
  },
  {
   "cell_type": "markdown",
   "id": "1d5c82a3",
   "metadata": {},
   "source": [
    "# Question_8th:- Create a Python program that uses multiprocessing.Pool to compute the square of numbers from 1 to 10 in parallel. Measure the time taken to perform this computation using a pool of different sizes (e.g., 2, 4, 8 processes)."
   ]
  },
  {
   "cell_type": "code",
   "execution_count": null,
   "id": "2ac9de2c",
   "metadata": {},
   "outputs": [
    {
     "name": "stdout",
     "output_type": "stream",
     "text": [
      "Using pool size: 2\n"
     ]
    }
   ],
   "source": [
    "import multiprocessing\n",
    "import time\n",
    "\n",
    "# Function to compute the square of a number\n",
    "def square(n):\n",
    "    return n * n\n",
    "\n",
    "# List of numbers to compute squares for\n",
    "numbers = list(range(1, 11))\n",
    "\n",
    "def measure_time(pool_size):\n",
    "    # Create a Pool with the given size\n",
    "    with multiprocessing.Pool(pool_size) as pool:\n",
    "        # Measure start time\n",
    "        start_time = time.time()\n",
    "        \n",
    "        # Map the square function to the numbers\n",
    "        results = pool.map(square, numbers)\n",
    "        \n",
    "        # Measure end time\n",
    "        end_time = time.time()\n",
    "    \n",
    "    # Return the results and the time taken\n",
    "    return results, end_time - start_time\n",
    "\n",
    "def main():\n",
    "    pool_sizes = [2, 4, 8]  # Different pool sizes to test\n",
    "    \n",
    "    for pool_size in pool_sizes:\n",
    "        print(f\"Using pool size: {pool_size}\")\n",
    "        results, duration = measure_time(pool_size)\n",
    "        print(f\"Results: {results}\")\n",
    "        print(f\"Time taken: {duration:.4f} seconds\\n\")\n",
    "\n",
    "if __name__ == \"__main__\":\n",
    "    main()\n"
   ]
  },
  {
   "cell_type": "code",
   "execution_count": null,
   "id": "39e3fe83",
   "metadata": {},
   "outputs": [],
   "source": []
  }
 ],
 "metadata": {
  "kernelspec": {
   "display_name": "Python 3 (ipykernel)",
   "language": "python",
   "name": "python3"
  },
  "language_info": {
   "codemirror_mode": {
    "name": "ipython",
    "version": 3
   },
   "file_extension": ".py",
   "mimetype": "text/x-python",
   "name": "python",
   "nbconvert_exporter": "python",
   "pygments_lexer": "ipython3",
   "version": "3.10.9"
  }
 },
 "nbformat": 4,
 "nbformat_minor": 5
}
